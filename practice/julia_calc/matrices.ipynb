{
 "cells": [
  {
   "cell_type": "code",
   "execution_count": 8,
   "metadata": {},
   "outputs": [
    {
     "name": "stdout",
     "output_type": "stream",
     "text": [
      "[47 123; 46 114; 20 36; 52 186][32 54 31 13; 84 144 135 45]Array{Int64,2}Array{Int64,2}\n"
     ]
    }
   ],
   "source": [
    "a = [\n",
    "    1 9 \n",
    "    4 6\n",
    "    2 6\n",
    "    1 3\n",
    "]\n",
    "\n",
    "A = [\n",
    "    3 6 9 2\n",
    "    5 9 2 1\n",
    "    0 4 1 2\n",
    "    9 4 12 3\n",
    "]\n",
    "\n",
    "println(A * a, a' * A, typeof(a), typeof(A))"
   ]
  },
  {
   "cell_type": "code",
   "execution_count": 11,
   "metadata": {},
   "outputs": [
    {
     "name": "stdout",
     "output_type": "stream",
     "text": [
      "[0.0 4.0 0.0; 0.0 0.0 0.0; 0.0 0.0 0.0]\n"
     ]
    }
   ],
   "source": [
    "B = zeros(3, 3)\n",
    "B[1,2] = 4\n",
    "\n",
    "println(B)"
   ]
  },
  {
   "cell_type": "code",
   "execution_count": 12,
   "metadata": {},
   "outputs": [
    {
     "name": "stdout",
     "output_type": "stream",
     "text": [
      "Complex{Float64}[0.0 + 0.0im 4.0 + 5.0im 0.0 + 0.0im; 0.0 + 0.0im 0.0 + 0.0im 0.0 + 0.0im; 0.0 + 0.0im 0.0 + 0.0im 0.0 + 0.0im]\n"
     ]
    }
   ],
   "source": [
    "B = zeros(ComplexF64, 3, 3)\n",
    "B[1,2] = 4 + 5 * im\n",
    "\n",
    "println(B)"
   ]
  },
  {
   "cell_type": "code",
   "execution_count": 14,
   "metadata": {},
   "outputs": [
    {
     "name": "stdout",
     "output_type": "stream",
     "text": [
      "[0.022744651229387094 0.0016115618136010937 -0.005809543248652713; -0.01895489150137242 0.003210937904604071 -0.002123362162722048; 0.074147075578898 -0.012560433568010045 0.03771785787182448]"
     ]
    }
   ],
   "source": [
    "using LinearAlgebra\n",
    "\n",
    "C = [\n",
    "    31 4 5\n",
    "    183 423 52\n",
    "    0 133 34\n",
    "]\n",
    "\n",
    "C_inv = inv(C)\n",
    "\n",
    "print(C_inv)"
   ]
  },
  {
   "cell_type": "code",
   "execution_count": null,
   "metadata": {},
   "outputs": [],
   "source": []
  },
  {
   "cell_type": "code",
   "execution_count": 15,
   "metadata": {},
   "outputs": [
    {
     "data": {
      "text/plain": [
       "3×3 Array{Float64,2}:\n",
       "  1.0           2.22045e-16   1.11022e-16\n",
       " -1.11022e-16   1.0          -4.16334e-17\n",
       "  0.0          -8.88178e-16   1.0"
      ]
     },
     "execution_count": 15,
     "metadata": {},
     "output_type": "execute_result"
    }
   ],
   "source": [
    "C_inv * C"
   ]
  },
  {
   "cell_type": "markdown",
   "metadata": {},
   "source": [
    "# $A\\vec{x}=\\vec{b}$を解く"
   ]
  },
  {
   "cell_type": "code",
   "execution_count": 23,
   "metadata": {},
   "outputs": [
    {
     "name": "stdout",
     "output_type": "stream",
     "text": [
      "[0.0, 0.0, -1.1102230246251565e-16]\n",
      "[4.440892098500626e-16, 8.881784197001252e-16, 2.220446049250313e-16]\n",
      "[8.881784197001252e-16, -1.7763568394002505e-15, -8.881784197001252e-16]\n"
     ]
    }
   ],
   "source": [
    "using LinearAlgebra\n",
    "using Random\n",
    "\n",
    "Random.seed!(13526463)\n",
    "A = rand(Float64, 3, 3)\n",
    "b = rand(Float64, 3)\n",
    "\n",
    "x = A \\  b\n",
    "x2 = inv(A) * b\n",
    "println(A * x -b ,\"\\n\", A * x2 - b ,\"\\n\", x-x2)"
   ]
  },
  {
   "cell_type": "code",
   "execution_count": null,
   "metadata": {},
   "outputs": [],
   "source": []
  }
 ],
 "metadata": {
  "kernelspec": {
   "display_name": "Julia 1.4.1",
   "language": "julia",
   "name": "julia-1.4"
  },
  "language_info": {
   "file_extension": ".jl",
   "mimetype": "application/julia",
   "name": "julia",
   "version": "1.4.1"
  }
 },
 "nbformat": 4,
 "nbformat_minor": 4
}
